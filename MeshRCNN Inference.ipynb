{
  "nbformat": 4,
  "nbformat_minor": 0,
  "metadata": {
    "colab": {
      "provenance": []
    },
    "kernelspec": {
      "name": "python3",
      "display_name": "Python 3"
    },
    "accelerator": "GPU"
  },
  "cells": [
    {
      "cell_type": "markdown",
      "metadata": {
        "id": "5paMMyPFz-yR"
      },
      "source": [
        "# Requirements and Setup\n",
        "It will take a while to install all the dependencies and expect around 20min to run this demo on this Google Colab"
      ]
    },
    {
      "cell_type": "code",
      "metadata": {
        "id": "UvYFBxOhtpJ4"
      },
      "source": [
        "# install dependencies: (use cu101 because colab has CUDA 10.1)\n",
        "%env FORCE_CUDA=1\n",
        "!pip install -U torch==1.6 torchvision==0.7 -f https://download.pytorch.org/whl/cu101/torch_stable.html \n",
        "!pip install pyyaml==5.1 pycocotools>=2.0.1\n",
        "!pip install -U fvcore==0.1.3.post20210317\n",
        "!pip install -U --force-reinstall iopath==0.1.6 \n",
        "!pip install 'git+https://github.com/facebookresearch/detectron2.git@4b539e41f4b19570bc6b722fa0f516f927cdae02'\n",
        "!pip install 'git+https://github.com/facebookresearch/pytorch3d.git'"
      ],
      "execution_count": null,
      "outputs": []
    },
    {
      "cell_type": "markdown",
      "metadata": {
        "id": "wLiG5IXz0Itk"
      },
      "source": [
        "## Imports and checking installation parameters(python 3.6.9, cuda 10.1)"
      ]
    },
    {
      "cell_type": "code",
      "metadata": {
        "id": "TExh70D2uOpv"
      },
      "source": [
        "import torch, torchvision\n",
        "print(torch.__version__, torch.cuda.is_available(),torch.cuda.device_count())\n",
        "!gcc --version\n",
        "!python --version\n",
        "!nvcc --version\n",
        "!nvidia-smi\n",
        "!python -m detectron2.utils.collect_env"
      ],
      "execution_count": null,
      "outputs": []
    },
    {
      "cell_type": "markdown",
      "metadata": {
        "id": "2RFcQv0Z0Y0q"
      },
      "source": [
        "## Installing meshrcnn\n",
        "It will create a folder structure on your left in which we can navigate\n"
      ]
    },
    {
      "cell_type": "code",
      "metadata": {
        "id": "hYihvMi3vvCr"
      },
      "source": [
        "!git clone https://github.com/facebookresearch/meshrcnn.git\n",
        "!cd meshrcnn && pip install -e ."
      ],
      "execution_count": null,
      "outputs": []
    },
    {
      "cell_type": "markdown",
      "metadata": {
        "id": "Otaz5CQ20m0w"
      },
      "source": [
        "# Loading Pix3D Dataset\n",
        "Also this import will take a while since it is loading the entire dataset 3.5GB\n"
      ]
    },
    {
      "cell_type": "code",
      "metadata": {
        "id": "q8VdKJDIW9ji"
      },
      "source": [
        "# pix3d data\n",
        "!./meshrcnn/datasets/pix3d/download_pix3d.sh"
      ],
      "execution_count": null,
      "outputs": []
    },
    {
      "cell_type": "code",
      "metadata": {
        "id": "yDJI434n4jw9"
      },
      "source": [
        "from google.colab import files\n",
        "uploaded = files.upload()  # import a sofa from your computer and name it test.jpg"
      ],
      "execution_count": null,
      "outputs": []
    },
    {
      "cell_type": "markdown",
      "metadata": {
        "id": "QkR0aNt6n0Fh"
      },
      "source": [
        "## Demo (Inference)"
      ]
    },
    {
      "cell_type": "code",
      "metadata": {
        "id": "ML4EWtAbzeZG"
      },
      "source": [
        "!python ./meshrcnn/demo/demo.py --config-file ./meshrcnn/configs/pix3d/meshrcnn_R50_FPN.yaml \\\n",
        "--input /content/test.jpg --output output_demo --onlyhighest MODEL.WEIGHTS meshrcnn://meshrcnn_R50.pth"
      ],
      "execution_count": null,
      "outputs": []
    },
    {
      "cell_type": "markdown",
      "metadata": {
        "id": "wGvDp6kx7ME0"
      },
      "source": [
        "# Visualize the Picture Uploaded and the Segmentation Mask "
      ]
    },
    {
      "cell_type": "code",
      "metadata": {
        "id": "QffsNjfd-ww6"
      },
      "source": [
        "filename = 'test.jpg' #check the name is the same as the file you uploaded\n",
        "maskname = '0_mask_sofa_1.000.png' # Make sure to change the file name with the appropriate mask change 'test/0_mask_sofa_1.000.png'"
      ],
      "execution_count": null,
      "outputs": []
    },
    {
      "cell_type": "code",
      "metadata": {
        "id": "oZq0kJPip-Tk"
      },
      "source": [
        "%matplotlib inline\n",
        "import matplotlib.pyplot as plt\n",
        "plt.figure(figsize=(10,10))\n",
        "\n",
        "img = plt.imread(\"/content/\" + filename) \n",
        "plt.imshow(img)\n",
        "plt.axis('off')\n",
        "plt.show()\n",
        "\n",
        "plt.figure(figsize=(10,10))\n",
        "img = plt.imread(\"/content/output_demo/test/\" + maskname)  \n",
        "plt.imshow(img)\n",
        "plt.axis('off')\n",
        "plt.show()"
      ],
      "execution_count": null,
      "outputs": []
    },
    {
      "cell_type": "markdown",
      "metadata": {
        "id": "CM8jzLOu6x-7"
      },
      "source": [
        "# Download the .obj file"
      ]
    },
    {
      "cell_type": "code",
      "metadata": {
        "id": "p7MGB2Hk954d"
      },
      "source": [
        "name = 'sofa' # change file name accordingly"
      ],
      "execution_count": null,
      "outputs": []
    },
    {
      "cell_type": "code",
      "metadata": {
        "id": "1YIkQ9sZ6wRX"
      },
      "source": [
        "from google.colab import files\n",
        "files.download('/content/output_demo/test/0_mesh_'+ name + '_1.000.obj')"
      ],
      "execution_count": null,
      "outputs": []
    }
  ]
}